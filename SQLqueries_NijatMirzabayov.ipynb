{
  "metadata": {
    "kernelspec": {
      "name": "python",
      "display_name": "Python (Pyodide)",
      "language": "python"
    },
    "language_info": {
      "codemirror_mode": {
        "name": "python",
        "version": 3
      },
      "file_extension": ".py",
      "mimetype": "text/x-python",
      "name": "python",
      "nbconvert_exporter": "python",
      "pygments_lexer": "ipython3",
      "version": "3.8"
    }
  },
  "nbformat_minor": 5,
  "nbformat": 4,
  "cells": [
    {
      "id": "1accb0c6-afc1-4ddf-b522-0846533813ea",
      "cell_type": "markdown",
      "source": "##  Data Analytics test assignment - SQL queries\n\nNijat Mirzabayov\n26/04/2025\n",
      "metadata": {}
    },
    {
      "id": "724e369a-bfc9-4ba4-a870-b4b7380b9496",
      "cell_type": "markdown",
      "source": "\n**A. Statistics by country. Calculate the following metrics for each country from database:**\n- Total number of users from this country\n- Amount of users who made at least one deposit\n- Average amount of deposit for the country\n- Average amount of withdrawal for the country\nProvide the output sorted by number of users.",
      "metadata": {}
    },
    {
      "id": "1f855884-ca07-4a93-9688-e484258819e0",
      "cell_type": "markdown",
      "source": "```sql\nSELECT \nu.country_code AS CountryCode,\nCOUNT(DISTINCT u.user_id) AS TotalUsers,\nCOUNT(DISTINCT CASE WHEN b.operation_type = 'deposit' THEN u.user_id END) AS UsersWithDeposit,\nROUND(AVG(CASE WHEN b.operation_type = 'deposit' THEN b.operation_amount_usd END),2) AS AvgDeposit,\nROUND(AVG(CASE WHEN b.operation_type = 'withdrawal' THEN b.operation_amount_usd END),2) AS AvgWithdrawal\nFROM (\nSELECT *  -- Subquery is needed to fix duplicate \"user_id\" in \"users\" table problem\nFROM users u1\nWHERE  registration_time = (\nSELECT MIN(u2.registration_time) -- Assumption is made that \"user_id\" with earlier registration date is a genuine one\nFROM users u2\nWHERE u2.user_id = u1.user_id)\n) u\nLEFT JOIN balance b ON u.user_id = b.user_id\nGROUP BY u.country_code\nORDER BY COUNT(DISTINCT u.user_id) DESC;\n```\n",
      "metadata": {}
    },
    {
      "id": "b65a03e2-f4c5-4b1a-b400-6cf67571d0c0",
      "cell_type": "markdown",
      "source": "**B. Active user. Find a user with the higher amount of profit from trading activity and\ncalculate some metrics for him. The expected output format is as follows:**\n- ID of this user\n- His country code\n- His profit\n- Total amount of deals\n- Amount of profitable deals\n- The most popular trading instrument (symbol). The position with the highest\namount of opened orders for this user\n- The symbol with the highest level of profit\n- The symbol with the highest level of loss",
      "metadata": {}
    },
    {
      "id": "03f6cb83-8214-4b72-bf55-11805ecc2e2d",
      "cell_type": "markdown",
      "source": "```sql\nSELECT \n u.user_id AS User,\n u.country_code AS CountryCOde,\n SUM(o.profit_usd) AS ProfitUSD,\n COUNT(*) AS NumberOfDeals,\n SUM(CASE WHEN o.profit_usd > 0 THEN 1 ELSE 0 END) AS NumberOfProfitableDeals,\n--select subquery to get MostUsed symbol\n(SELECT o1.symbol \nFROM orders o1\nWHERE o1.user_id = o.user_id\nGROUP BY o1.symbol\nORDER BY COUNT(*) DESC\nLIMIT 1) AS MostUsedSymbol,\n--select subquery to get HighestProfitSymbol\n(SELECT o2.symbol\nFROM orders o2\nWHERE o2.user_id = o.user_id\nGROUP BY o2.symbol\nORDER BY SUM(o2.profit_usd) DESC\nLIMIT 1) AS HighestProfitSymbol,\n--select subquery to get HighestProfitSymbol\n(SELECT o3.symbol\nFROM orders o3\nWHERE o3.user_id = o.user_id\nGROUP BY o3.symbol\nORDER BY SUM(o3.profit_usd) ASC\nLIMIT 1) AS HighestLossSymbol\n\nFROM \n\n(SELECT *  -- Subquery is needed to fix duplicate user_id in users table problem which causes incorrect aggregation when joining\nFROM users u1\nWHERE  registration_time = (\nSELECT MIN(u2.registration_time) -- Assumption is made that user_id with earlier registration date is genuine one\nFROM users u2\nWHERE u2.user_id = u1.user_id)\n) u\nJOIN orders o \nWHERE u.user_id = o.user_id\nGROUP BY u.user_id, u.country_code\nORDER BY SUM(o.profit_usd) DESC\nLIMIT 1;\n```",
      "metadata": {}
    },
    {
      "id": "948f6e34-8b0b-4170-8807-211843edfb2e",
      "cell_type": "markdown",
      "source": "C. User’s funnel. Calculate the following metrics for each user\n- User ID\n- Country\n- Registration datetime\n- Date and time of the first deposit\n- Date and time of the first trade (if any)\n- Amount of the first deposit\n- Profit / loss of the first trade\n- Total deposit for the first 30 days since registration\n- Total withdrawal for the first 30 days after registration\n- Total profit / loss for the first 30 days after registration\n- TOTAL profit / loss for the user’s lifetime",
      "metadata": {}
    },
    {
      "id": "86dfe922-6adf-4cff-adc8-c9ae76d90080",
      "cell_type": "markdown",
      "source": "```sql\nSELECT\nu.user_id AS User,\nu.country_code AS CountryCode,\nu.registration_time AS RegistrationDate,\n\n--Date and time of the first deposit\n(SELECT MIN(b.operation_time)\nFROM balance b\nWHERE b.user_id = u.user_id AND b.operation_type = 'deposit') AS TimeOfFirstDeposit,\n\n--Date and time of the first trade\n(SELECT MIN(o.open_time)\nFROM orders o\nWHERE o.user_id = u.user_id) AS TimeOfFirstTrade,\n\n--Amount of the first deposit\n(SELECT b2.operation_amount_usd\nFROM balance b2\nWHERE b2.user_id = u.user_id AND b2.operation_type = 'deposit'\nORDER BY b2.operation_time ASC\nLIMIT 1) AS AmountOfFirstDeposit,\n\n--Profit / loss of the first trade\n(SELECT o2.profit_usd\nFROM orders o2\nWHERE o2.user_id = u.user_id\nORDER BY o2.open_time ASC\nLIMIT 1) AS ProfitLossOfFirstTrade,\n\n--Total deposit for the first 30 days since registration\n(SELECT SUM(b3.operation_amount_usd)\nFROM balance b3\nWHERE b3.user_id = u.user_id AND b3.operation_type = 'deposit'\nAND b3.operation_time >= u.registration_time AND b3.operation_time <= datetime(u.registration_time, '+30 days')\n) AS DepositFirst30days,\n\n--Total withdrawal for the first 30 days after registration\n(SELECT SUM(b4.operation_amount_usd)\nFROM balance b4\nWHERE b4.user_id = u.user_id AND b4.operation_type = 'withdrawal'\nAND b4.operation_time >= u.registration_time\nAND b4.operation_time <= datetime(u.registration_time, '+30 days')\n) AS WithdrawalFirst30days,\n\n-- Total profit / loss for the first 30 days after registration\n(SELECT SUM(o3.profit_usd)\nFROM orders o3\nWHERE o3.user_id = u.user_id AND o3.open_time >= u.registration_time\nAND o3.open_time <= datetime(u.registration_time, '+30 days')\n) AS ProfitLoss30days,\n\n--TOTAL profit / loss for the user’s lifetime\n(SELECT SUM(o4.profit_usd)\nFROM orders o4\nWHERE o4.user_id = u.user_id\n) AS TotalProfitLoss\n\nFROM (SELECT *  -- Subquery is needed to fix duplicate user_id in users table problem which causes incorrect aggregation when joining\nFROM users u1\nWHERE  registration_time = (\nSELECT MIN(u2.registration_time) -- Assumption is made that user_id with earlier registration date is genuine one\nFROM users u2\nWHERE u2.user_id = u1.user_id)\n) u\n```",
      "metadata": {}
    }
  ]
}